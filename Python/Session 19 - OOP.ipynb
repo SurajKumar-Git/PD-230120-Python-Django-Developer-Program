{
 "cells": [
  {
   "cell_type": "code",
   "execution_count": null,
   "metadata": {},
   "outputs": [],
   "source": [
    "HW2\n",
    "Course : 1 course can have multiple tutorials \n",
    "    course_id\n",
    "    course_name\n",
    "    course_desc\n",
    "    author_name\n",
    "\n",
    "Tutorials :\n",
    "    tut_id\n",
    "    name\n",
    "    content \n",
    "    course\n",
    "    \n",
    "1. Find all the tutorials for course say \"Python\"    \n",
    "2. All the tutorials by author \"ABC\"\n",
    "3. change the name of course with id 1 to Numpy\n",
    "\n",
    "\n",
    "aut name\n",
    "profession \n",
    "total exp \n",
    "tech "
   ]
  },
  {
   "cell_type": "code",
   "execution_count": null,
   "metadata": {},
   "outputs": [],
   "source": [
    "1 course : many tut\n",
    "1 tut : 1 Course     \n"
   ]
  },
  {
   "cell_type": "code",
   "execution_count": 19,
   "metadata": {},
   "outputs": [],
   "source": [
    "class Course:\n",
    "    \n",
    "    courses = []\n",
    "    \n",
    "    @classmethod\n",
    "    def check_course(cls,c_id):\n",
    "        for course in cls.courses:\n",
    "            if course.c_id == c_id:\n",
    "                return course\n",
    "        else:\n",
    "            return -1\n",
    "        \n",
    "    @classmethod\n",
    "    def add_course(cls,obj):\n",
    "        cls.courses.append(obj)\n",
    "                \n",
    "    \n",
    "    def __init__(self,c_id,c_name,c_desc,author):\n",
    "        self.c_id= c_id\n",
    "        self.c_name = c_name\n",
    "        self.c_desc = c_desc\n",
    "        self.author = author\n",
    "        Course.add_course(self)\n",
    "\n",
    "class Tutorial:\n",
    "    tutorials = []\n",
    "    def __init__(self,t_id,t_name,t_content,course):\n",
    "        self.t_id = t_id\n",
    "        self.t_name = t_name\n",
    "        self.t_content = t_content\n",
    "        self.course = course\n",
    "        Tutorial.tutorials.append(self)\n",
    "        \n",
    "    def get_details(self):\n",
    "        return self.t_id,self.t_name,self.t_content\n",
    "        \n",
    "\n",
    "class Author:\n",
    "    def __init__(self,name,prof,exp,tech):\n",
    "        self.name = name\n",
    "        self.prof = prof\n",
    "        self.exp = exp\n",
    "        self.tech = tech\n",
    "    \n",
    "    "
   ]
  },
  {
   "cell_type": "code",
   "execution_count": 20,
   "metadata": {},
   "outputs": [],
   "source": [
    "auth1 = Author(\"ABC\",\"xyz\",5,['c','c++','python'])\n",
    "auth2 = Author(\"ABD\",\"xya\",7,['c','python'])\n",
    "auth3 = Author(\"ABE\",\"xyb\",5,['python'])\n",
    "auth4 = Author(\"ABF\",\"xyc\",10,['python'])"
   ]
  },
  {
   "cell_type": "code",
   "execution_count": 21,
   "metadata": {},
   "outputs": [],
   "source": [
    "course1 = Course(101,\"Python\",\"Python Beg. to Advanced\",auth1)\n",
    "course2 = Course(102,\"Django\",\"Django Beg. to Advanced\",auth4)\n"
   ]
  },
  {
   "cell_type": "code",
   "execution_count": 22,
   "metadata": {},
   "outputs": [],
   "source": [
    "tut1 = Tutorial(1,\"Python basics\",\"Operators,Conditional Statements\",course1)\n",
    "tut2 = Tutorial(2,\"Python loops\",\"For,While Loops\",course1)\n",
    "tut3 = Tutorial(3,\"Python lists\",\"Append,Extend,Insert\",course1)\n",
    "\n",
    "tut4 = Tutorial(4,\"Django Models\",\"Models,Migrations,Model fields\",course2)\n",
    "tut5 = Tutorial(5,\"Django Views\",\"Class Based and Function based views\",course2)"
   ]
  },
  {
   "cell_type": "code",
   "execution_count": 14,
   "metadata": {},
   "outputs": [
    {
     "name": "stdout",
     "output_type": "stream",
     "text": [
      "[<__main__.Tutorial object at 0x00000214746E1438>, <__main__.Tutorial object at 0x00000214746E1FD0>, <__main__.Tutorial object at 0x00000214746E1C50>, <__main__.Tutorial object at 0x00000214746E1C18>, <__main__.Tutorial object at 0x00000214746E1F98>]\n"
     ]
    }
   ],
   "source": [
    "print(Tutorial.tutorials)"
   ]
  },
  {
   "cell_type": "code",
   "execution_count": 17,
   "metadata": {},
   "outputs": [
    {
     "name": "stdout",
     "output_type": "stream",
     "text": [
      "(4, 'Django Models', 'Models,Migrations,Model fields')\n",
      "(5, 'Django Views', 'Class Based and Function based views')\n"
     ]
    }
   ],
   "source": [
    "for tutorial in Tutorial.tutorials:\n",
    "    if tutorial.course.c_name == \"Django\":\n",
    "        print(tutorial.get_details())"
   ]
  },
  {
   "cell_type": "code",
   "execution_count": 18,
   "metadata": {},
   "outputs": [
    {
     "name": "stdout",
     "output_type": "stream",
     "text": [
      "(1, 'Python basics', 'Operators,Conditional Statements')\n",
      "(2, 'Python loops', 'For,While Loops')\n",
      "(3, 'Python lists', 'Append,Extend,Insert')\n"
     ]
    }
   ],
   "source": [
    "for tutorial in Tutorial.tutorials:\n",
    "    if tutorial.course.author.name == \"ABC\":\n",
    "        print(tutorial.get_details())"
   ]
  },
  {
   "cell_type": "code",
   "execution_count": 25,
   "metadata": {},
   "outputs": [
    {
     "name": "stdout",
     "output_type": "stream",
     "text": [
      "<__main__.Course object at 0x00000214746DDB00>\n"
     ]
    }
   ],
   "source": [
    "print(Course.check_course(101))"
   ]
  },
  {
   "cell_type": "code",
   "execution_count": null,
   "metadata": {},
   "outputs": [],
   "source": [
    "HW1\n",
    "Products :\n",
    "    prod_id :\n",
    "    prod_name :\n",
    "    unit_price :\n",
    "    stock :\n",
    "        \n",
    "Orders : 1 order there are multiple products \n",
    "    order_id\n",
    "    order_details :\n",
    "           prod_id\n",
    "           unit_price\n",
    "           qunatity \n",
    "            \n",
    "    Calculate_price_order \n",
    "    Get order details for a specific order"
   ]
  },
  {
   "cell_type": "markdown",
   "metadata": {},
   "source": [
    "HW2\n",
    "Problem 1 In a normal supermarket, things are identified using Stock Keeping Units,. In our store, we’ll use individual letters of the alphabet (A, B, C, and so on). Our goods are priced individually. In addition, some items are multipriced: buy n of them, and they’ll cost you y Rs. For example, item ‘A’ might cost 50 Rs individually, but this week we have a special offer: buy three ‘A’s and they’ll cost you 120Rs. In fact this week’s prices are:\n",
    "\n",
    "Item Unit Special Price Price \n",
    "A 50 3 for 120 \n",
    "B 30 2 for 45 \n",
    "C 20 D 15\n",
    "\n",
    "Our checkout accepts items in any order, so that if we scan a B, an A, and another B, we’ll recognize the two B’s and price them at 45 . Because the pricing changes frequently, we need to be able to pass in a set of pricing rules each time we start handling a checkout transaction."
   ]
  }
 ],
 "metadata": {
  "kernelspec": {
   "display_name": "Python 3",
   "language": "python",
   "name": "python3"
  },
  "language_info": {
   "codemirror_mode": {
    "name": "ipython",
    "version": 3
   },
   "file_extension": ".py",
   "mimetype": "text/x-python",
   "name": "python",
   "nbconvert_exporter": "python",
   "pygments_lexer": "ipython3",
   "version": "3.6.5"
  }
 },
 "nbformat": 4,
 "nbformat_minor": 2
}
