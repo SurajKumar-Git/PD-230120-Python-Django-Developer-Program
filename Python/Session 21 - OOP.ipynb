{
 "cells": [
  {
   "cell_type": "code",
   "execution_count": 1,
   "metadata": {},
   "outputs": [
    {
     "name": "stdout",
     "output_type": "stream",
     "text": [
      "<class 'list'>\n"
     ]
    }
   ],
   "source": [
    "l= [10,20,30,40]\n",
    "print(type(l))"
   ]
  },
  {
   "cell_type": "code",
   "execution_count": 4,
   "metadata": {},
   "outputs": [
    {
     "name": "stdout",
     "output_type": "stream",
     "text": [
      "['__add__', '__class__', '__contains__', '__delattr__', '__delitem__', '__dir__', '__doc__', '__eq__', '__format__', '__ge__', '__getattribute__', '__getitem__', '__gt__', '__hash__', '__iadd__', '__imul__', '__init__', '__init_subclass__', '__iter__', '__le__', '__len__', '__lt__', '__mul__', '__ne__', '__new__', '__reduce__', '__reduce_ex__', '__repr__', '__reversed__', '__rmul__', '__setattr__', '__setitem__', '__sizeof__', '__str__', '__subclasshook__', 'append', 'clear', 'copy', 'count', 'extend', 'index', 'insert', 'pop', 'remove', 'reverse', 'sort']\n"
     ]
    }
   ],
   "source": [
    "print(dir(list))"
   ]
  },
  {
   "cell_type": "code",
   "execution_count": null,
   "metadata": {},
   "outputs": [],
   "source": [
    "class list:\n",
    "    \n",
    "    def append(self):\n",
    "        \n",
    "        \n",
    "    def extend(self):\n",
    "        \n",
    "        \n",
    "        \n",
    "        "
   ]
  },
  {
   "cell_type": "code",
   "execution_count": 3,
   "metadata": {},
   "outputs": [
    {
     "name": "stdout",
     "output_type": "stream",
     "text": [
      "[10, 20, 30, 40, 50]\n"
     ]
    }
   ],
   "source": [
    "l = list([10,20,30,40,50])\n",
    "print(l)"
   ]
  },
  {
   "cell_type": "code",
   "execution_count": null,
   "metadata": {},
   "outputs": [],
   "source": [
    "__init__"
   ]
  },
  {
   "cell_type": "code",
   "execution_count": null,
   "metadata": {},
   "outputs": [],
   "source": [
    "Everthing in python is an object"
   ]
  },
  {
   "cell_type": "code",
   "execution_count": 6,
   "metadata": {},
   "outputs": [
    {
     "name": "stdout",
     "output_type": "stream",
     "text": [
      "Python\n"
     ]
    },
    {
     "data": {
      "text/plain": [
       "0"
      ]
     },
     "execution_count": 6,
     "metadata": {},
     "output_type": "execute_result"
    }
   ],
   "source": [
    "s = str(\"Python\")\n",
    "print(s)\n",
    "s.index(\"P\")"
   ]
  },
  {
   "cell_type": "code",
   "execution_count": 13,
   "metadata": {},
   "outputs": [],
   "source": [
    "\n",
    "class Offer:\n",
    "    def __init__(self,o_id,min_qty,offer_price):\n",
    "        self.o_id = o_id\n",
    "        self.min_qty = min_qty\n",
    "        self.offer_price = offer_price\n",
    "\n",
    "class Product:\n",
    "    \n",
    "    products = []\n",
    "    \n",
    "    @classmethod\n",
    "    def add_obj(cls,obj):\n",
    "        cls.products.append(obj)\n",
    "        \n",
    "    def __init__(self,p_id,p_name,unit_price,stock,offer = None):\n",
    "        self.p_id = p_id\n",
    "        self.p_name = p_name\n",
    "        self.unit_price = unit_price\n",
    "        self.stock = stock\n",
    "        self.offer = offer\n",
    "        \n",
    "        Product.add_obj(self)\n",
    "        \n",
    "class Admin:\n",
    "    def __init__(self,name,username,email):\n",
    "        self.name = name\n",
    "        self.username = username\n",
    "        self.email = email\n",
    "        \n",
    "    def add_product(self,p_id,p_name,unit_price,stock,offer=None):\n",
    "        prod = Product(p_id,p_name,unit_price,stock,offer)\n",
    "        return prod\n",
    "    \n",
    "    def add_offer(self,o_id,min_qty,offer_price):\n",
    "        offer = Offer(o_id,min_qty,offer_price)\n",
    "        return offer\n",
    "    \n",
    "    def __str__(self):\n",
    "        return \"{} {}\".format(self.name,self.username)\n",
    "    \n",
    "    def __add__(self,obj2):\n",
    "        return self.name + obj2.name\n",
    "    \n",
    "class System:\n",
    "    \n",
    "    @classmethod\n",
    "    def cal_bill(cls,cart):\n",
    "        total_bill = 0\n",
    "        for prod,qty in cart.items():\n",
    "            if prod.offer:\n",
    "#                 if qty % prod.offer.min_qty == 0:\n",
    "                    total_bill+= prod.offer.offer_price * (qty // prod.offer.min_qty) +qty % prod.offer.min_qty * prod.unit_price\n",
    "\n",
    "# A : 7\n",
    "    \n",
    "# 120 * 2 = 240 \n",
    "\n",
    "# 7%3 => 1 \n",
    "            else:\n",
    "                total_bill+= prod.unit_price*qty\n",
    "        return total_bill\n",
    "    \n",
    "class Customer:\n",
    "    def __init__(self,name,phone):\n",
    "        self.name = name\n",
    "        self.phone = phone\n",
    "        self.cart = {}\n",
    "        \n",
    "    def add_to_cart(self,product,qty):\n",
    "        if product not in self.cart:\n",
    "            self.cart.setdefault(product,qty)\n",
    "        else:\n",
    "            self.cart[product] += qty\n",
    "        \n",
    "    def view_cart(self):\n",
    "        return {key.p_name:value for key,value in self.cart.items()}\n",
    "    \n",
    "    def checkout(self):\n",
    "        return System.cal_bill(self.cart)\n",
    "    \n"
   ]
  },
  {
   "cell_type": "code",
   "execution_count": 14,
   "metadata": {},
   "outputs": [
    {
     "name": "stdout",
     "output_type": "stream",
     "text": [
      "ABC abc\n",
      "PQR pqr\n",
      "ABCPQR\n"
     ]
    }
   ],
   "source": [
    "admin = Admin(\"ABC\",\"abc\",\"abc@xyz.com\")\n",
    "print(admin)\n",
    "\n",
    "admin2 = Admin(\"PQR\",\"pqr\",\"abc@xyz.com\")\n",
    "print(admin2)\n",
    "print(admin + admin2)"
   ]
  },
  {
   "cell_type": "code",
   "execution_count": 17,
   "metadata": {},
   "outputs": [],
   "source": [
    "off1 = Offer(101,3,120)\n",
    "off2 = Offer(102,2,45)"
   ]
  },
  {
   "cell_type": "code",
   "execution_count": 18,
   "metadata": {},
   "outputs": [],
   "source": [
    "p1 = admin.add_product(1,\"A\",50,100,off1)\n",
    "p2 = admin.add_product(2,\"B\",30,100,off2)\n",
    "p3= admin.add_product(3,\"C\",20,100)"
   ]
  },
  {
   "cell_type": "code",
   "execution_count": 20,
   "metadata": {},
   "outputs": [
    {
     "name": "stdout",
     "output_type": "stream",
     "text": [
      "A\n",
      "C\n"
     ]
    }
   ],
   "source": [
    "print(p1.p_name)\n",
    "p1.p_name = \"C\"\n",
    "print(p1.p_name)\n"
   ]
  },
  {
   "cell_type": "code",
   "execution_count": null,
   "metadata": {},
   "outputs": [],
   "source": [
    "getter and setter"
   ]
  },
  {
   "cell_type": "code",
   "execution_count": 15,
   "metadata": {},
   "outputs": [
    {
     "name": "stdout",
     "output_type": "stream",
     "text": [
      "['__abs__', '__add__', '__and__', '__bool__', '__ceil__', '__class__', '__delattr__', '__dir__', '__divmod__', '__doc__', '__eq__', '__float__', '__floor__', '__floordiv__', '__format__', '__ge__', '__getattribute__', '__getnewargs__', '__gt__', '__hash__', '__index__', '__init__', '__init_subclass__', '__int__', '__invert__', '__le__', '__lshift__', '__lt__', '__mod__', '__mul__', '__ne__', '__neg__', '__new__', '__or__', '__pos__', '__pow__', '__radd__', '__rand__', '__rdivmod__', '__reduce__', '__reduce_ex__', '__repr__', '__rfloordiv__', '__rlshift__', '__rmod__', '__rmul__', '__ror__', '__round__', '__rpow__', '__rrshift__', '__rshift__', '__rsub__', '__rtruediv__', '__rxor__', '__setattr__', '__sizeof__', '__str__', '__sub__', '__subclasshook__', '__truediv__', '__trunc__', '__xor__', 'bit_length', 'conjugate', 'denominator', 'from_bytes', 'imag', 'numerator', 'real', 'to_bytes']\n"
     ]
    }
   ],
   "source": [
    "print(dir(int))"
   ]
  },
  {
   "cell_type": "code",
   "execution_count": 32,
   "metadata": {},
   "outputs": [
    {
     "name": "stdout",
     "output_type": "stream",
     "text": [
      "RST\n"
     ]
    }
   ],
   "source": [
    "class User:\n",
    "    def __init__(self,username,email,password):\n",
    "        self.__user_name = username\n",
    "        self.__email = email\n",
    "        self.password = password\n",
    "        self.is_active = True\n",
    "    \n",
    "    def add_contact(self,number):\n",
    "        self.number = number\n",
    "        \n",
    "    def login(self,username,password):\n",
    "        if self.__user_name == username and self.password == password:\n",
    "            return True\n",
    "        else:\n",
    "            return False\n",
    "        \n",
    "    def get_details(self):\n",
    "        return self.__user_name,self.__email\n",
    "    \n",
    "    def change_active_status(self,status):\n",
    "        self.is_active = status\n",
    "        return self.is_active\n",
    "    \n",
    "    def get_username(self):\n",
    "        return self.__user_name\n",
    "    \n",
    "    def get_email(self):\n",
    "        return self.__email\n",
    "    \n",
    "    \n",
    "    def set_email(self,new_email):\n",
    "        self.__email = new_email\n",
    "\n",
    "\n",
    "user1 = User(\"abc\",\"abc@xyz.com\",\"abc@123\")\n",
    "# print(user1.__dict__)\n",
    "user1._User__user_name = \"RST\"\n",
    "print(user1._User__user_name)\n",
    "# User(user1,\"abc\",\"abc@xyz.com\",\"abc@123\")\n",
    "# print(user1.get_username())\n",
    "\n",
    "# print(user1.get_email())\n",
    "# user1.set_email(\"pqr@xyz.com\")\n",
    "# print(user1.get_email())\n",
    "# user2 = User(\"xyz\",\"pqr@xyz.com\",\"pqr@123\")\n",
    "# print(user2)\n",
    "\n",
    "\n",
    "# user3 = User(\"rst\",\"rst@xyz.com\",\"pqr@123\")\n",
    "# print(user3)\n",
    "\n",
    "# user4 = User(\"qwe\",\"qwe@xyz.com\",\"pqr@123\")\n",
    "# print(user4)\n"
   ]
  },
  {
   "cell_type": "code",
   "execution_count": null,
   "metadata": {},
   "outputs": [],
   "source": [
    "100 places "
   ]
  },
  {
   "cell_type": "code",
   "execution_count": null,
   "metadata": {},
   "outputs": [],
   "source": [
    "Inheritance"
   ]
  },
  {
   "cell_type": "code",
   "execution_count": null,
   "metadata": {},
   "outputs": [],
   "source": [
    "User:\n",
    "    username\n",
    "    first_name\n",
    "    last_name\n",
    "    password\n",
    "    email\n",
    "    \n",
    "    \n",
    "Profile:\n",
    "    \n",
    "    username\n",
    "    first_name\n",
    "    last_name\n",
    "    password\n",
    "    email\n",
    "    \n",
    "    linkedin \n",
    "    twitter\n",
    "    github \n",
    "    \n",
    "    "
   ]
  },
  {
   "cell_type": "code",
   "execution_count": 51,
   "metadata": {},
   "outputs": [],
   "source": [
    "class User:\n",
    "    def __init__(self,username,email,password):\n",
    "        self.__user_name = username\n",
    "        self.__email = email\n",
    "        self.password = password\n",
    "        self.is_active = True\n",
    "    \n",
    "    def add_contact(self,number):\n",
    "        self.number = number\n",
    "        \n",
    "    def login(self,username,password):\n",
    "        if self.__user_name == username and self.password == password:\n",
    "            return True\n",
    "        else:\n",
    "            return False\n",
    "        \n",
    "    def get_details(self):\n",
    "        return self.__user_name,self.__email\n",
    "    \n",
    "    def change_active_status(self,status):\n",
    "        self.is_active = status\n",
    "        return self.is_active\n",
    "    \n",
    "    def get_username(self):\n",
    "        return self.__user_name\n",
    "    \n",
    "    def get_email(self):\n",
    "        return self.__email\n",
    "    \n",
    "    \n",
    "    def set_email(self,new_email):\n",
    "        self.__email = new_email\n",
    "\n",
    "        \n",
    "class Admin:\n",
    "    def get_details(self):\n",
    "        return \"Admin\",\"Admin\"\n",
    "        \n",
    "class Profile(Admin,User):\n",
    "    def add_linkedin(self,link):\n",
    "        self.__linkedin = link\n",
    "        \n",
    "    def add_github(self,link):\n",
    "        self.__github = link\n",
    "        \n",
    "    def get_details(self):\n",
    "        u,e = User.get_details(self)\n",
    "        return u,e,self.__linkedin,self.__github"
   ]
  },
  {
   "cell_type": "code",
   "execution_count": null,
   "metadata": {},
   "outputs": [],
   "source": [
    "Multiple Inheritance \n",
    "\n",
    "Admin User\n",
    "   Profile"
   ]
  },
  {
   "cell_type": "code",
   "execution_count": 52,
   "metadata": {},
   "outputs": [
    {
     "name": "stdout",
     "output_type": "stream",
     "text": [
      "abc\n",
      "('abc', 'abc@xyz.com', 'www.linkedin/abc', 'www.github/abc')\n"
     ]
    }
   ],
   "source": [
    "user1 = Profile(\"abc\",\"abc@xyz.com\",\"abc@123\")\n",
    "print(user1.get_username())\n",
    "\n",
    "user1.add_linkedin(\"www.linkedin/abc\")\n",
    "user1.add_github(\"www.github/abc\")\n",
    "print(user1.get_details())"
   ]
  },
  {
   "cell_type": "code",
   "execution_count": 50,
   "metadata": {},
   "outputs": [
    {
     "name": "stdout",
     "output_type": "stream",
     "text": [
      "Help on Profile in module __main__ object:\n",
      "\n",
      "class Profile(Admin, User)\n",
      " |  Method resolution order:\n",
      " |      Profile\n",
      " |      Admin\n",
      " |      User\n",
      " |      builtins.object\n",
      " |  \n",
      " |  Methods defined here:\n",
      " |  \n",
      " |  add_github(self, link)\n",
      " |  \n",
      " |  add_linkedin(self, link)\n",
      " |  \n",
      " |  get_details(self)\n",
      " |  \n",
      " |  ----------------------------------------------------------------------\n",
      " |  Data descriptors inherited from Admin:\n",
      " |  \n",
      " |  __dict__\n",
      " |      dictionary for instance variables (if defined)\n",
      " |  \n",
      " |  __weakref__\n",
      " |      list of weak references to the object (if defined)\n",
      " |  \n",
      " |  ----------------------------------------------------------------------\n",
      " |  Methods inherited from User:\n",
      " |  \n",
      " |  __init__(self, username, email, password)\n",
      " |      Initialize self.  See help(type(self)) for accurate signature.\n",
      " |  \n",
      " |  add_contact(self, number)\n",
      " |  \n",
      " |  change_active_status(self, status)\n",
      " |  \n",
      " |  get_email(self)\n",
      " |  \n",
      " |  get_username(self)\n",
      " |  \n",
      " |  login(self, username, password)\n",
      " |  \n",
      " |  set_email(self, new_email)\n",
      "\n"
     ]
    }
   ],
   "source": [
    "help(user1)"
   ]
  },
  {
   "cell_type": "code",
   "execution_count": null,
   "metadata": {},
   "outputs": [],
   "source": [
    "method overriding "
   ]
  },
  {
   "cell_type": "code",
   "execution_count": 43,
   "metadata": {},
   "outputs": [
    {
     "name": "stdout",
     "output_type": "stream",
     "text": [
      "30\n"
     ]
    },
    {
     "ename": "TypeError",
     "evalue": "add() takes 2 positional arguments but 3 were given",
     "output_type": "error",
     "traceback": [
      "\u001b[1;31m---------------------------------------------------------------------------\u001b[0m",
      "\u001b[1;31mTypeError\u001b[0m                                 Traceback (most recent call last)",
      "\u001b[1;32m<ipython-input-43-32fed4b05050>\u001b[0m in \u001b[0;36m<module>\u001b[1;34m()\u001b[0m\n\u001b[0;32m      6\u001b[0m \u001b[1;33m\u001b[0m\u001b[0m\n\u001b[0;32m      7\u001b[0m \u001b[0mprint\u001b[0m\u001b[1;33m(\u001b[0m\u001b[0madd\u001b[0m\u001b[1;33m(\u001b[0m\u001b[1;36m10\u001b[0m\u001b[1;33m,\u001b[0m\u001b[1;36m20\u001b[0m\u001b[1;33m)\u001b[0m\u001b[1;33m)\u001b[0m\u001b[1;33m\u001b[0m\u001b[0m\n\u001b[1;32m----> 8\u001b[1;33m \u001b[0mprint\u001b[0m\u001b[1;33m(\u001b[0m\u001b[0madd\u001b[0m\u001b[1;33m(\u001b[0m\u001b[1;36m10\u001b[0m\u001b[1;33m,\u001b[0m\u001b[1;36m20\u001b[0m\u001b[1;33m,\u001b[0m\u001b[1;36m30\u001b[0m\u001b[1;33m)\u001b[0m\u001b[1;33m)\u001b[0m\u001b[1;33m\u001b[0m\u001b[0m\n\u001b[0m",
      "\u001b[1;31mTypeError\u001b[0m: add() takes 2 positional arguments but 3 were given"
     ]
    }
   ],
   "source": [
    "def add(num1,num2,num3):\n",
    "    return num1 +num2 + num3\n",
    "\n",
    "def add(num1,num2):\n",
    "    return num1 +num2\n",
    "\n",
    "print(add(10,20))\n",
    "print(add(10,20,30))"
   ]
  },
  {
   "cell_type": "code",
   "execution_count": null,
   "metadata": {},
   "outputs": [],
   "source": [
    "1. Num of para\n",
    "2. Type of para"
   ]
  },
  {
   "cell_type": "code",
   "execution_count": null,
   "metadata": {},
   "outputs": [],
   "source": [
    "def add(int a,int b):\n",
    "    a+ b\n",
    "    \n",
    "def add(int a,int b,int c ):\n",
    "    a+ b "
   ]
  },
  {
   "cell_type": "code",
   "execution_count": null,
   "metadata": {},
   "outputs": [],
   "source": [
    "The goal of this program is to model a game of bowling. Given a series of input the program should output the players final score.\n",
    " \n",
    "Specification/Rules of Bowling\n",
    " \n",
    "Each game, or line of bowling, includes ten turns, or frames for the bowler.\n",
    " \n",
    "In each frame, the bowler gets up to two tries to knock down all the pins.\n",
    " \n",
    "If in two tries, he fails to knock them all down, his score for that frame is the total number of pins knocked down in his two tries.\n",
    " \n",
    "If in two tries he knocks them all down, this is called a spare and his score for the frame \n",
    "is ten plus the number of pins knocked down on his next throw (in his next turn).\n",
    "\n",
    "If on his first try in the frame he knocks down all the pins, this is called a strike. \n",
    "His turn is over, and his score for the frame is \n",
    "ten plus the simple total of the pins knocked down in his next two rolls.\n",
    " \n",
    "If he gets a spare or strike in the last (tenth) frame, \n",
    "the bowler gets to throw one or two more bonus balls, respectively. \n",
    "These bonus throws are taken as part of the same turn. \n",
    "\n",
    "If the bonus throws knock down all the pins, the process does not repeat:\n",
    "the bonus throws are only used to calculate the score of the final frame.\n",
    " \n",
    "The game score is the total of all frame scores.\n",
    " \n",
    "Example 1: Gutter balls (all zero)\n",
    "[[0,0],[0,0],[0,0],[0,0],[0,0],[0,0],[0,0],[0,0],[0,0],[0,0]] => final score\n",
    "-> 0\n",
    " \n",
    "Example 2: All Threes\n",
    "[3,3],[3,3],[3,3],[3,3],[3,3],[3,3],[3,3],[3,3],[3,3],[3,3]\n",
    "-> 60\n",
    " \n",
    "Example 3: All Spares with first ball a 4\n",
    "[4,6],[4,6],[4,6],[4,6],[4,6],[4,6],[4,6],[4,6],[4,6],[4,6,4]\n",
    "-> 140\n",
    " \n",
    "Example 4: Nine Strikes followed by a gutter ball\n",
    "[10,0],[10,0],[10,0],[10,0],[10,0],[10,0],[10,0],[10,0],[10,0],[0,0]\n",
    "10 + 10 + 10 => 30 \n",
    "-> 240\n",
    " \n",
    "Example 5: Perfect Game\n",
    "[10,0],[10,0],[10,0],[10,0],[10,0],[10,0],[10,0],[10,0],[10,0],[10,10,10]\n",
    "-> 300"
   ]
  },
  {
   "cell_type": "code",
   "execution_count": null,
   "metadata": {},
   "outputs": [],
   "source": [
    "10 Turns an in each frmae you get 2 turns \n",
    "\n",
    "2 Turns => 10 pins\n",
    "\n",
    "Score cal rules:\n",
    "    1. if score in both attempt is less than 10 total score will sum of two turns\n",
    "    2. Spare: if score of two attempts is 10 , final score 10 + next turn 1 frame points \n",
    "        if its 10th turn:\n",
    "            1 bonus\n",
    "    3. Strike: if score of first attempt is 10 , final score 10 + next turn 2 \n",
    "        if its 10th turn \n",
    "            1 bonus"
   ]
  },
  {
   "cell_type": "code",
   "execution_count": null,
   "metadata": {},
   "outputs": [],
   "source": [
    "[10,0],[2,3]\n",
    "10 + 5 = > 15 + 5 = 20 \n",
    "\n",
    "[3,7],[2,2]:\n",
    "10 +2 =12 + 4 = 16 "
   ]
  },
  {
   "cell_type": "code",
   "execution_count": null,
   "metadata": {},
   "outputs": [],
   "source": [
    "Game():\n",
    "    player1\n",
    "       score_list \n",
    "    player2 \n",
    "        score_list \n",
    "    "
   ]
  },
  {
   "cell_type": "code",
   "execution_count": null,
   "metadata": {},
   "outputs": [],
   "source": [
    "Game\n",
    "start_game:\n",
    "    create two objects of player\n",
    "    \n",
    "play():\n",
    "    \n",
    "    loop 10times: \n",
    "        player 1 its your turn \n",
    "        your score in first attempt \n",
    "        your score in sec attempt \n",
    "\n",
    "\n",
    "        player 2 its your turn \n",
    "        your score in first attempt \n",
    "        your score in sec attempt \n",
    "        \n",
    "calculte_the_final_score\n",
    "declare_the_winner\n",
    "    \n",
    "    \n",
    "Player:\n",
    "    id : \n",
    "    name:\n",
    "    score_list: []\n",
    "    final_score\n",
    "    \n",
    "Games_Hist:\n",
    "    game_id\n",
    "    palyer 1 and player 2 \n",
    "    winner_score"
   ]
  },
  {
   "cell_type": "code",
   "execution_count": null,
   "metadata": {},
   "outputs": [],
   "source": [
    "game.start_game(\"ABC\",\"PQR\")"
   ]
  }
 ],
 "metadata": {
  "kernelspec": {
   "display_name": "Python 3",
   "language": "python",
   "name": "python3"
  },
  "language_info": {
   "codemirror_mode": {
    "name": "ipython",
    "version": 3
   },
   "file_extension": ".py",
   "mimetype": "text/x-python",
   "name": "python",
   "nbconvert_exporter": "python",
   "pygments_lexer": "ipython3",
   "version": "3.6.5"
  }
 },
 "nbformat": 4,
 "nbformat_minor": 2
}
