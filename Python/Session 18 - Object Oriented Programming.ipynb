{
 "cells": [
  {
   "cell_type": "code",
   "execution_count": null,
   "metadata": {},
   "outputs": [],
   "source": [
    "Paytm :\n",
    "    data: \n",
    "    phone number \n",
    "    email \n",
    "    password \n",
    "    name \n",
    "    \n",
    "    functinalities:\n",
    "    money transfer \n",
    "    recharge \n",
    "    shopping \n",
    "    tickets \n",
    "    bill payments \n",
    "    movie tkts \n",
    "    gold \n",
    "    mutual funds \n",
    "    \n",
    "    \n",
    "user1 = \n",
    "\n",
    "user2 = "
   ]
  },
  {
   "cell_type": "code",
   "execution_count": null,
   "metadata": {},
   "outputs": [],
   "source": [
    "Class :\n",
    "    data\n",
    "    \n",
    "    functinalities \n",
    "    \n",
    "objects  "
   ]
  },
  {
   "cell_type": "code",
   "execution_count": null,
   "metadata": {},
   "outputs": [],
   "source": [
    "reuse \n",
    "maintainable\n",
    "scalable "
   ]
  },
  {
   "cell_type": "code",
   "execution_count": null,
   "metadata": {},
   "outputs": [],
   "source": [
    "proce : c:struct,clojure:atom  \n",
    "oop : c++,java"
   ]
  },
  {
   "cell_type": "code",
   "execution_count": null,
   "metadata": {},
   "outputs": [],
   "source": [
    "User:\n",
    "    username\n",
    "    email \n",
    "    password\n",
    "    \n",
    "    phonenumber \n",
    "    country \n",
    "    linkedin \n",
    "    \n",
    "    signup\n",
    "    login \n",
    "    \n",
    "    change_password\n",
    "    update_email \n",
    "    \n",
    "    \n",
    "    "
   ]
  },
  {
   "cell_type": "code",
   "execution_count": null,
   "metadata": {},
   "outputs": [],
   "source": [
    "Instance variable : every object will have its own copy of a variable"
   ]
  },
  {
   "cell_type": "code",
   "execution_count": 34,
   "metadata": {},
   "outputs": [
    {
     "name": "stdout",
     "output_type": "stream",
     "text": [
      "<__main__.User object at 0x000001B566CD5588>\n",
      "<__main__.User object at 0x000001B566CD55F8>\n",
      "<__main__.User object at 0x000001B566CD56A0>\n",
      "<__main__.User object at 0x000001B566CD5630>\n"
     ]
    }
   ],
   "source": [
    "class User:\n",
    "    def __init__(self,username,email,password):\n",
    "        self.user_name = username\n",
    "        self.email = email\n",
    "        self.password = password\n",
    "        self.is_active = True\n",
    "    \n",
    "    def add_contact(self,number):\n",
    "        self.number = number\n",
    "        \n",
    "    def login(self,username,password):\n",
    "        if self.user_name == username and self.password == password:\n",
    "            return True\n",
    "        else:\n",
    "            return False\n",
    "        \n",
    "    def get_details(self):\n",
    "        return self.user_name,self.email\n",
    "    \n",
    "    def change_active_status(self,status):\n",
    "        self.is_active = status\n",
    "        return self.is_active\n",
    "\n",
    "\n",
    "user1 = User(\"abc\",\"abc@xyz.com\",\"abc@123\")\n",
    "# User(user1,\"abc\",\"abc@xyz.com\",\"abc@123\")\n",
    "print(user1)\n",
    "\n",
    "user2 = User(\"xyz\",\"pqr@xyz.com\",\"pqr@123\")\n",
    "print(user2)\n",
    "\n",
    "\n",
    "user3 = User(\"rst\",\"rst@xyz.com\",\"pqr@123\")\n",
    "print(user3)\n",
    "\n",
    "user4 = User(\"qwe\",\"qwe@xyz.com\",\"pqr@123\")\n",
    "print(user4)\n"
   ]
  },
  {
   "cell_type": "code",
   "execution_count": 27,
   "metadata": {},
   "outputs": [
    {
     "name": "stdout",
     "output_type": "stream",
     "text": [
      "True\n"
     ]
    }
   ],
   "source": [
    "print(user1.is_active)"
   ]
  },
  {
   "cell_type": "code",
   "execution_count": 35,
   "metadata": {},
   "outputs": [
    {
     "name": "stdout",
     "output_type": "stream",
     "text": [
      "False\n"
     ]
    }
   ],
   "source": [
    "print(user2.change_active_status(False))"
   ]
  },
  {
   "cell_type": "code",
   "execution_count": 36,
   "metadata": {},
   "outputs": [],
   "source": [
    "users = [user1,user2,user3,user4]"
   ]
  },
  {
   "cell_type": "code",
   "execution_count": 37,
   "metadata": {},
   "outputs": [
    {
     "name": "stdout",
     "output_type": "stream",
     "text": [
      "('abc', 'abc@xyz.com')\n",
      "('rst', 'rst@xyz.com')\n",
      "('qwe', 'qwe@xyz.com')\n"
     ]
    }
   ],
   "source": [
    "for user in users:\n",
    "    if user.is_active:\n",
    "        print(user.get_details())"
   ]
  },
  {
   "cell_type": "code",
   "execution_count": 21,
   "metadata": {},
   "outputs": [],
   "source": [
    "user1.add_contact(\"9123456789\")\n",
    "# User.add_contact(user1,\"912345678\")"
   ]
  },
  {
   "cell_type": "code",
   "execution_count": 22,
   "metadata": {},
   "outputs": [
    {
     "name": "stdout",
     "output_type": "stream",
     "text": [
      "('abc', 'abc@xyz.com', '9123456789')\n"
     ]
    },
    {
     "ename": "AttributeError",
     "evalue": "'User' object has no attribute 'number'",
     "output_type": "error",
     "traceback": [
      "\u001b[1;31m---------------------------------------------------------------------------\u001b[0m",
      "\u001b[1;31mAttributeError\u001b[0m                            Traceback (most recent call last)",
      "\u001b[1;32m<ipython-input-22-31b12eded87a>\u001b[0m in \u001b[0;36m<module>\u001b[1;34m()\u001b[0m\n\u001b[0;32m      1\u001b[0m \u001b[0mprint\u001b[0m\u001b[1;33m(\u001b[0m\u001b[0muser1\u001b[0m\u001b[1;33m.\u001b[0m\u001b[0mget_details\u001b[0m\u001b[1;33m(\u001b[0m\u001b[1;33m)\u001b[0m\u001b[1;33m)\u001b[0m\u001b[1;33m\u001b[0m\u001b[0m\n\u001b[1;32m----> 2\u001b[1;33m \u001b[0mprint\u001b[0m\u001b[1;33m(\u001b[0m\u001b[0muser2\u001b[0m\u001b[1;33m.\u001b[0m\u001b[0mget_details\u001b[0m\u001b[1;33m(\u001b[0m\u001b[1;33m)\u001b[0m\u001b[1;33m)\u001b[0m\u001b[1;33m\u001b[0m\u001b[0m\n\u001b[0m",
      "\u001b[1;32m<ipython-input-20-e106fed646ca>\u001b[0m in \u001b[0;36mget_details\u001b[1;34m(self)\u001b[0m\n\u001b[0;32m      9\u001b[0m \u001b[1;33m\u001b[0m\u001b[0m\n\u001b[0;32m     10\u001b[0m     \u001b[1;32mdef\u001b[0m \u001b[0mget_details\u001b[0m\u001b[1;33m(\u001b[0m\u001b[0mself\u001b[0m\u001b[1;33m)\u001b[0m\u001b[1;33m:\u001b[0m\u001b[1;33m\u001b[0m\u001b[0m\n\u001b[1;32m---> 11\u001b[1;33m         \u001b[1;32mreturn\u001b[0m \u001b[0mself\u001b[0m\u001b[1;33m.\u001b[0m\u001b[0muser_name\u001b[0m\u001b[1;33m,\u001b[0m\u001b[0mself\u001b[0m\u001b[1;33m.\u001b[0m\u001b[0memail\u001b[0m\u001b[1;33m,\u001b[0m\u001b[0mself\u001b[0m\u001b[1;33m.\u001b[0m\u001b[0mnumber\u001b[0m\u001b[1;33m\u001b[0m\u001b[0m\n\u001b[0m\u001b[0;32m     12\u001b[0m \u001b[1;33m\u001b[0m\u001b[0m\n\u001b[0;32m     13\u001b[0m \u001b[1;33m\u001b[0m\u001b[0m\n",
      "\u001b[1;31mAttributeError\u001b[0m: 'User' object has no attribute 'number'"
     ]
    }
   ],
   "source": [
    "print(user1.get_details())\n",
    "# print(user2.get_details())"
   ]
  },
  {
   "cell_type": "code",
   "execution_count": 25,
   "metadata": {},
   "outputs": [
    {
     "name": "stdout",
     "output_type": "stream",
     "text": [
      "False\n"
     ]
    }
   ],
   "source": [
    "result = user1.login(\"abc\",\"abc@124\")\n",
    "print(result)"
   ]
  },
  {
   "cell_type": "code",
   "execution_count": 6,
   "metadata": {},
   "outputs": [
    {
     "name": "stdout",
     "output_type": "stream",
     "text": [
      "abc\n",
      "pqr\n"
     ]
    }
   ],
   "source": [
    "print(user1.user_name)\n",
    "print(user2.user_name)"
   ]
  },
  {
   "cell_type": "code",
   "execution_count": 10,
   "metadata": {},
   "outputs": [
    {
     "name": "stdout",
     "output_type": "stream",
     "text": [
      "abc\n"
     ]
    }
   ],
   "source": [
    "class User:\n",
    "    def signup(self,username,email,password):\n",
    "        self.user_name = username\n",
    "        self.email = email\n",
    "        self.password = password\n",
    "        \n",
    "\n",
    "user1 = User()\n",
    "user1.signup(\"abc\",\"abc@xyz.com\",\"abc@123\")\n",
    "# User.signup(user1,\"abc\",\"abc@xyz.com\",\"abc@123\")\n",
    "print(user1.user_name)"
   ]
  },
  {
   "cell_type": "code",
   "execution_count": null,
   "metadata": {},
   "outputs": [],
   "source": [
    "Student :\n",
    "    roll_no\n",
    "    class \n",
    "    marks : {\"sub\":80....5}\n",
    "    \n",
    "Total marks  = 500\n",
    "1 calulate the per for every student \n",
    "2. if per more than 40 : result : pass/fail \n",
    "3. All failed students and their details \n",
    "4. Top 3 students \n",
    "    "
   ]
  },
  {
   "cell_type": "code",
   "execution_count": 13,
   "metadata": {},
   "outputs": [],
   "source": [
    "class Student:\n",
    "    def __init__(self,roll_no,marks,std):\n",
    "        self.roll_no = roll_no\n",
    "        self.marks = marks\n",
    "        self.std = std\n",
    "        \n",
    "    def cal_result(self):\n",
    "        self.per = (sum(self.marks.values())/500) * 100\n",
    "        if self.per < 40:\n",
    "            self.result = \"Fail\"\n",
    "        else:\n",
    "            self.result = \"Pass\"\n",
    "            \n",
    "    def get_details(self):\n",
    "        return \"{} {} {}\".format(self.roll_no,self.per,self.result)\n",
    "        \n",
    "class Std:\n",
    "    def __init__(self,name,class_teacher_name):\n",
    "        self.name = name\n",
    "        self.class_teacher_name = class_teacher_name\n",
    "        \n",
    "std1 = Std(\"1\",\"ABC\")\n",
    "std2 = Std(\"2\",\"PQR\")\n",
    "std3 = Std(\"3\",\"RST\")\n",
    "        \n",
    "        \n",
    "stud1 = Student(1,{\"eng\":75,\"phy\":50,\"chem\":60,\"maths\":80,\"bio\":40},std1)\n",
    "stud2 = Student(2,{\"eng\":70,\"phy\":71,\"chem\":55,\"maths\":80,\"bio\":80},std2)\n",
    "stud3 = Student(3,{\"eng\":70,\"phy\":71,\"chem\":55,\"maths\":80,\"bio\":80},std2)\n",
    "stud4 = Student(4,{\"eng\":30,\"phy\":30,\"chem\":30,\"maths\":30,\"bio\":30},std1)\n",
    "\n",
    "stud5 = Student(5,{\"eng\":45,\"phy\":20,\"chem\":30,\"maths\":25,\"bio\":15},std1)"
   ]
  },
  {
   "cell_type": "code",
   "execution_count": 16,
   "metadata": {},
   "outputs": [
    {
     "name": "stdout",
     "output_type": "stream",
     "text": [
      "ABC\n",
      "{'roll_no': 1, 'marks': {'eng': 75, 'phy': 50, 'chem': 60, 'maths': 80, 'bio': 40}, 'std': <__main__.Std object at 0x0000023D4BB4FA90>}\n"
     ]
    }
   ],
   "source": [
    "print(stud1.std.class_teacher_name)\n",
    "print(stud1.__dict__)"
   ]
  },
  {
   "cell_type": "code",
   "execution_count": 3,
   "metadata": {},
   "outputs": [],
   "source": [
    "students = [stud1,stud2,stud3,stud4,stud5]\n",
    "for student in students:\n",
    "    student.cal_result()"
   ]
  },
  {
   "cell_type": "code",
   "execution_count": 4,
   "metadata": {},
   "outputs": [
    {
     "name": "stdout",
     "output_type": "stream",
     "text": [
      "4 30.0 Fail\n",
      "5 27.0 Fail\n"
     ]
    }
   ],
   "source": [
    "for student in students:\n",
    "    if student.result == \"Fail\":\n",
    "        print(student.get_details())"
   ]
  },
  {
   "cell_type": "code",
   "execution_count": 12,
   "metadata": {},
   "outputs": [
    {
     "name": "stdout",
     "output_type": "stream",
     "text": [
      "1 61.0 Pass\n",
      "2 71.2 Pass\n",
      "3 71.2 Pass\n"
     ]
    }
   ],
   "source": [
    "# def sort_per(student):\n",
    "#     return student.per\n",
    "# print(students)\n",
    "l = sorted(students,key = lambda student : student.per)\n",
    "l2 = l[-3:]\n",
    "for student in l2:\n",
    "    print(student.get_details())"
   ]
  },
  {
   "cell_type": "code",
   "execution_count": null,
   "metadata": {},
   "outputs": [],
   "source": [
    "HW1\n",
    "Products :\n",
    "    prod_id :\n",
    "    prod_name :\n",
    "    unit_price :\n",
    "    stock :\n",
    "        \n",
    "Orders : 1 order there are multiple products \n",
    "    order_id\n",
    "    order_details :\n",
    "           prod_id\n",
    "           unit_price\n",
    "           qunatity \n",
    "            \n",
    "    Calculate_price_order \n",
    "    "
   ]
  },
  {
   "cell_type": "code",
   "execution_count": null,
   "metadata": {},
   "outputs": [],
   "source": [
    "HW2\n",
    "Course : 1 course can have multiple tutorials \n",
    "    course_id\n",
    "    course_name\n",
    "    course_desc\n",
    "    author_name\n",
    "\n",
    "Tutorials :\n",
    "    tut_id\n",
    "    name\n",
    "    content \n",
    "    course\n",
    "    \n",
    "1. Find all the tutorials for course say \"Python\"    \n",
    "2. All the tutorials by author \"ABC\""
   ]
  },
  {
   "cell_type": "code",
   "execution_count": null,
   "metadata": {},
   "outputs": [],
   "source": [
    "Class variable : "
   ]
  },
  {
   "cell_type": "code",
   "execution_count": 1,
   "metadata": {},
   "outputs": [
    {
     "name": "stdout",
     "output_type": "stream",
     "text": [
      "0\n"
     ]
    }
   ],
   "source": [
    "class Student:\n",
    "    students = []\n",
    "    count = 0\n",
    "    \n",
    "    def __init__(self,roll_no,marks,std):\n",
    "        self.roll_no = roll_no\n",
    "        self.marks = marks\n",
    "        self.std = std\n",
    "        Student.count +=1\n",
    "        Student.students.append(self)\n",
    "        \n",
    "        \n",
    "    def cal_result(self):\n",
    "        self.per = (sum(self.marks.values())/500) * 100\n",
    "        if self.per < 40:\n",
    "            self.result = \"Fail\"\n",
    "        else:\n",
    "            self.result = \"Pass\"\n",
    "            \n",
    "    def get_details(self):\n",
    "        return \"{} {} {}\".format(self.roll_no,self.per,self.result)\n",
    "        \n",
    "class Std:\n",
    "    def __init__(self,name,class_teacher_name):\n",
    "        self.name = name\n",
    "        self.class_teacher_name = class_teacher_name\n",
    "        \n",
    "std1 = Std(\"1\",\"ABC\")\n",
    "std2 = Std(\"2\",\"PQR\")\n",
    "std3 = Std(\"3\",\"RST\")\n",
    "        \n",
    "print(Student.count)    \n",
    "stud1 = Student(1,{\"eng\":75,\"phy\":50,\"chem\":60,\"maths\":80,\"bio\":40},std1)\n",
    "stud2 = Student(2,{\"eng\":70,\"phy\":71,\"chem\":55,\"maths\":80,\"bio\":80},std2)\n",
    "stud3 = Student(3,{\"eng\":70,\"phy\":71,\"chem\":55,\"maths\":80,\"bio\":80},std2)\n",
    "stud4 = Student(4,{\"eng\":30,\"phy\":30,\"chem\":30,\"maths\":30,\"bio\":30},std1)\n",
    "\n",
    "stud5 = Student(5,{\"eng\":45,\"phy\":20,\"chem\":30,\"maths\":25,\"bio\":15},std1)"
   ]
  },
  {
   "cell_type": "code",
   "execution_count": 2,
   "metadata": {},
   "outputs": [],
   "source": [
    "students = [stud1,stud2,stud3,stud4,stud5]\n",
    "for student in students:\n",
    "    student.cal_result()"
   ]
  },
  {
   "cell_type": "code",
   "execution_count": 18,
   "metadata": {},
   "outputs": [
    {
     "name": "stdout",
     "output_type": "stream",
     "text": [
      "5\n"
     ]
    }
   ],
   "source": [
    "print(Student.count)"
   ]
  },
  {
   "cell_type": "code",
   "execution_count": 23,
   "metadata": {},
   "outputs": [
    {
     "name": "stdout",
     "output_type": "stream",
     "text": [
      "1 61.0 Pass\n",
      "2 71.2 Pass\n",
      "3 71.2 Pass\n",
      "4 30.0 Fail\n",
      "5 27.0 Fail\n"
     ]
    }
   ],
   "source": [
    "for student in Student.students:\n",
    "    print(student.get_details())"
   ]
  },
  {
   "cell_type": "code",
   "execution_count": 24,
   "metadata": {},
   "outputs": [
    {
     "name": "stdout",
     "output_type": "stream",
     "text": [
      "5\n"
     ]
    }
   ],
   "source": [
    "print(stud1.count)"
   ]
  },
  {
   "cell_type": "code",
   "execution_count": 3,
   "metadata": {},
   "outputs": [
    {
     "name": "stdout",
     "output_type": "stream",
     "text": [
      "{'roll_no': 1, 'marks': {'eng': 75, 'phy': 50, 'chem': 60, 'maths': 80, 'bio': 40}, 'std': <__main__.Std object at 0x000002BDF69E9E10>, 'per': 61.0, 'result': 'Pass'}\n"
     ]
    }
   ],
   "source": [
    "print(stud1.__dict__)"
   ]
  },
  {
   "cell_type": "code",
   "execution_count": 4,
   "metadata": {},
   "outputs": [
    {
     "name": "stdout",
     "output_type": "stream",
     "text": [
      "500\n",
      "5\n"
     ]
    }
   ],
   "source": [
    "stud1.count = 500\n",
    "print(stud1.count)\n",
    "print(Student.count)"
   ]
  },
  {
   "cell_type": "code",
   "execution_count": 5,
   "metadata": {},
   "outputs": [
    {
     "name": "stdout",
     "output_type": "stream",
     "text": [
      "{'roll_no': 1, 'marks': {'eng': 75, 'phy': 50, 'chem': 60, 'maths': 80, 'bio': 40}, 'std': <__main__.Std object at 0x000002BDF69E9E10>, 'per': 61.0, 'result': 'Pass', 'count': 500}\n"
     ]
    }
   ],
   "source": [
    "print(stud1.__dict__)"
   ]
  }
 ],
 "metadata": {
  "kernelspec": {
   "display_name": "Python 3",
   "language": "python",
   "name": "python3"
  },
  "language_info": {
   "codemirror_mode": {
    "name": "ipython",
    "version": 3
   },
   "file_extension": ".py",
   "mimetype": "text/x-python",
   "name": "python",
   "nbconvert_exporter": "python",
   "pygments_lexer": "ipython3",
   "version": "3.6.5"
  }
 },
 "nbformat": 4,
 "nbformat_minor": 2
}
