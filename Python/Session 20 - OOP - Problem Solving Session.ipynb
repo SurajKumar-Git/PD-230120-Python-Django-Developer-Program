{
 "cells": [
  {
   "cell_type": "markdown",
   "metadata": {},
   "source": [
    "Problem 1 \n",
    "\n",
    "In a normal supermarket, things are identified using Stock Keeping Units,. In our store, we’ll use individual letters of the alphabet (A, B, C, and so on). Our goods are priced individually. In addition, some items are multipriced: buy n of them, and they’ll cost you y Rs. For example, item ‘A’ might cost 50 Rs individually, but this week we have a special offer: buy three ‘A’s and they’ll cost you 120Rs. In fact this week’s prices are:\n",
    "\n",
    "Item Unit Special Price Price \n",
    "A 50 3 for 120 \n",
    "B 50 2 for 45 \n",
    "C 20 \n",
    "\n",
    "Our checkout accepts items in any order, so that if we scan a B, an A, and another B, we’ll recognize the two B’s and price them at 45 . Because the pricing changes frequently, we need to be able to pass in a set of pricing rules each time we start handling a checkout transaction."
   ]
  },
  {
   "cell_type": "code",
   "execution_count": 22,
   "metadata": {},
   "outputs": [
    {
     "ename": "SyntaxError",
     "evalue": "invalid syntax (<ipython-input-22-836bccae345a>, line 1)",
     "output_type": "error",
     "traceback": [
      "\u001b[1;36m  File \u001b[1;32m\"<ipython-input-22-836bccae345a>\"\u001b[1;36m, line \u001b[1;32m1\u001b[0m\n\u001b[1;33m    Product :\u001b[0m\n\u001b[1;37m             ^\u001b[0m\n\u001b[1;31mSyntaxError\u001b[0m\u001b[1;31m:\u001b[0m invalid syntax\n"
     ]
    }
   ],
   "source": [
    "Product :\n",
    "    prod_name\n",
    "    unit_price\n",
    "    \n",
    "Product(A,50)\n",
    "Product(B,30)\n",
    "\n",
    "Price :"
   ]
  },
  {
   "cell_type": "code",
   "execution_count": null,
   "metadata": {},
   "outputs": [],
   "source": [
    "1. Customer :\n",
    "    add_cart\n",
    "         A,5   \n",
    "         B,10\n",
    "         C,2 \n",
    "        \n",
    "    checkout() => what is the total bill \n",
    "    \n",
    "    \n",
    "2. Admin :\n",
    "    add_product\n",
    "        name : A\n",
    "        unit_price : \n",
    "        stock : 100\n",
    "            \n",
    "    update_product\n",
    "    delete_product \n",
    "    \n",
    "# 3. Billing person :\n",
    "#     scan_product \n",
    "#     scan_quantity\n",
    "    \n",
    "4. System : \n",
    "c    cal_bill"
   ]
  },
  {
   "cell_type": "code",
   "execution_count": 106,
   "metadata": {},
   "outputs": [],
   "source": [
    "\n",
    "class Offer:\n",
    "    def __init__(self,o_id,min_qty,offer_price):\n",
    "        self.o_id = o_id\n",
    "        self.min_qty = min_qty\n",
    "        self.offer_price = offer_price\n",
    "\n",
    "class Product:\n",
    "    \n",
    "    products = []\n",
    "    \n",
    "    @classmethod\n",
    "    def add_obj(cls,obj):\n",
    "        cls.products.append(obj)\n",
    "        \n",
    "    def __init__(self,p_id,p_name,unit_price,stock,offer = None):\n",
    "        self.p_id = p_id\n",
    "        self.p_name = p_name\n",
    "        self.unit_price = unit_price\n",
    "        self.stock = stock\n",
    "        self.offer = offer\n",
    "        \n",
    "        Product.add_obj(self)\n",
    "        \n",
    "class Admin:\n",
    "    def __init__(self,name,username,email):\n",
    "        self.name = name\n",
    "        self.username = username\n",
    "        self.email = email\n",
    "        \n",
    "    def add_product(self,p_id,p_name,unit_price,stock,offer=None):\n",
    "        prod = Product(p_id,p_name,unit_price,stock,offer)\n",
    "        return prod\n",
    "    \n",
    "    def add_offer(self,o_id,min_qty,offer_price):\n",
    "        offer = Offer(o_id,min_qty,offer_price)\n",
    "        return offer\n",
    "    \n",
    "class System:\n",
    "    \n",
    "    @classmethod\n",
    "    def cal_bill(cls,cart):\n",
    "        total_bill = 0\n",
    "        for prod,qty in cart.items():\n",
    "            if prod.offer:\n",
    "#                 if qty % prod.offer.min_qty == 0:\n",
    "                    total_bill+= prod.offer.offer_price * (qty // prod.offer.min_qty) +qty % prod.offer.min_qty * prod.unit_price\n",
    "\n",
    "# A : 7\n",
    "    \n",
    "# 120 * 2 = 240 \n",
    "\n",
    "# 7%3 => 1 \n",
    "            else:\n",
    "                total_bill+= prod.unit_price*qty\n",
    "        return total_bill\n",
    "    \n",
    "class Customer:\n",
    "    def __init__(self,name,phone):\n",
    "        self.name = name\n",
    "        self.phone = phone\n",
    "        self.cart = {}\n",
    "        \n",
    "    def add_to_cart(self,product,qty):\n",
    "        if product not in self.cart:\n",
    "            self.cart.setdefault(product,qty)\n",
    "        else:\n",
    "            self.cart[product] += qty\n",
    "        \n",
    "    def view_cart(self):\n",
    "        return {key.p_name:value for key,value in self.cart.items()}\n",
    "    \n",
    "    def checkout(self):\n",
    "        return System.cal_bill(self.cart)\n",
    "    \n"
   ]
  },
  {
   "cell_type": "code",
   "execution_count": 107,
   "metadata": {},
   "outputs": [
    {
     "name": "stdout",
     "output_type": "stream",
     "text": [
      "<__main__.Admin object at 0x000001F345E69278>\n"
     ]
    }
   ],
   "source": [
    "admin = Admin(\"ABC\",\"abc\",\"abc@xyz.com\")\n",
    "print(admin)"
   ]
  },
  {
   "cell_type": "code",
   "execution_count": 108,
   "metadata": {},
   "outputs": [],
   "source": [
    "off1 = Offer(101,3,120)\n",
    "off2 = Offer(102,2,45)"
   ]
  },
  {
   "cell_type": "code",
   "execution_count": 109,
   "metadata": {},
   "outputs": [],
   "source": [
    "p1 = admin.add_product(1,\"A\",50,100,off1)\n",
    "p2 = admin.add_product(2,\"B\",30,100,off2)\n",
    "p3= admin.add_product(3,\"C\",20,100)"
   ]
  },
  {
   "cell_type": "code",
   "execution_count": 110,
   "metadata": {},
   "outputs": [
    {
     "name": "stdout",
     "output_type": "stream",
     "text": [
      "{'o_id': 101, 'min_qty': 3, 'offer_price': 120}\n"
     ]
    }
   ],
   "source": [
    "print(p1.offer.__dict__)"
   ]
  },
  {
   "cell_type": "code",
   "execution_count": 111,
   "metadata": {},
   "outputs": [
    {
     "name": "stdout",
     "output_type": "stream",
     "text": [
      "[<__main__.Product object at 0x000001F345E753C8>, <__main__.Product object at 0x000001F345E75B38>, <__main__.Product object at 0x000001F345E75400>]\n"
     ]
    }
   ],
   "source": [
    "print(Product.products)"
   ]
  },
  {
   "cell_type": "code",
   "execution_count": 112,
   "metadata": {},
   "outputs": [],
   "source": [
    "cust1 = Customer(\"AAA\",\"9123456779\")"
   ]
  },
  {
   "cell_type": "code",
   "execution_count": 113,
   "metadata": {},
   "outputs": [
    {
     "name": "stdout",
     "output_type": "stream",
     "text": [
      "{}\n"
     ]
    }
   ],
   "source": [
    "print(cust1.view_cart())"
   ]
  },
  {
   "cell_type": "code",
   "execution_count": 114,
   "metadata": {},
   "outputs": [],
   "source": [
    "cust1.add_to_cart(p1,7)\n",
    "# cust1.add_to_cart(p2,10)\n",
    "# cust1.add_to_cart(p3,2)\n",
    "# cust1.add_to_cart(p1,15)"
   ]
  },
  {
   "cell_type": "code",
   "execution_count": 115,
   "metadata": {},
   "outputs": [
    {
     "name": "stdout",
     "output_type": "stream",
     "text": [
      "{'A': 7}\n"
     ]
    }
   ],
   "source": [
    "print(cust1.view_cart())"
   ]
  },
  {
   "cell_type": "code",
   "execution_count": 116,
   "metadata": {},
   "outputs": [
    {
     "name": "stdout",
     "output_type": "stream",
     "text": [
      "290\n"
     ]
    }
   ],
   "source": [
    "print(cust1.checkout())"
   ]
  },
  {
   "cell_type": "code",
   "execution_count": null,
   "metadata": {},
   "outputs": [],
   "source": [
    "1000    15march 5000"
   ]
  },
  {
   "cell_type": "markdown",
   "metadata": {},
   "source": [
    "Problem :\n",
    "\n",
    "We provide a shopping portal, where dealers can offer their goods (similiar to Amazon market place). We want to support red pencil promotions for reduced prices. During the red pencil promotion the old price is crossed out in red and the new reduced price is written next to it. To avoid misuse of red pencil promotions the red pencil promotions are activated and deactivated automatically.\n",
    "\n",
    "A red pencil promotion starts due to a price reduction. The price has to be reduced by at least 5% but at most bei 30% and the previous price had to be stable for at least 30 days.\n",
    "\n",
    "A red pencil promotion lasts 30 days as the maximum length.\n",
    "\n",
    "If the price is further reduced during the red pencil promotion the promotion will not be prolonged by that reduction.\n",
    "\n",
    "If the price is increased during the red pencil promotion the promotion will be ended immediately.\n",
    "\n",
    "If the price if reduced during the red pencil promotion so that the overall reduction is more than 30% with regard to the original price, the promotion is ended immediately.\n",
    "\n",
    "After a red pencil promotion is ended additional red pencil promotions may follow – as long as the start condition is valid: the price was stable for 30 days and these 30 days don’t intersect with a previous red pencil promotion."
   ]
  }
 ],
 "metadata": {
  "kernelspec": {
   "display_name": "Python 3",
   "language": "python",
   "name": "python3"
  },
  "language_info": {
   "codemirror_mode": {
    "name": "ipython",
    "version": 3
   },
   "file_extension": ".py",
   "mimetype": "text/x-python",
   "name": "python",
   "nbconvert_exporter": "python",
   "pygments_lexer": "ipython3",
   "version": "3.6.5"
  }
 },
 "nbformat": 4,
 "nbformat_minor": 2
}
